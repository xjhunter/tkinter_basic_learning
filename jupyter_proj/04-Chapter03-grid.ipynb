{
 "cells": [
  {
   "cell_type": "markdown",
   "id": "f00ca844",
   "metadata": {},
   "source": [
    "# 第三章 窗口控件配置管理员grid()方法"
   ]
  },
  {
   "cell_type": "code",
   "execution_count": 1,
   "id": "19852bc2",
   "metadata": {},
   "outputs": [],
   "source": [
    "from tkinter import *"
   ]
  },
  {
   "cell_type": "markdown",
   "id": "6109c379",
   "metadata": {},
   "source": [
    "## 使用grid()方法"
   ]
  },
  {
   "cell_type": "code",
   "execution_count": 5,
   "id": "eb001c03",
   "metadata": {},
   "outputs": [],
   "source": [
    "window = Tk()\n",
    "window.geometry(\"+810+460\")\n",
    "window.title(\"ch3_24\")\n",
    "lab1 = Label(window,text='明治科技大学',bg='lightyellow',width=15)\n",
    "lab2 = Label(window,text='长庚大学',bg='lightgreen',width=15)\n",
    "lab3 = Label(window,text='长庚科技大学',bg='lightblue',width=15)\n",
    "\n",
    "lab1.grid(row=0,column=0)\n",
    "lab2.grid(row=1,column=0)\n",
    "lab3.grid(row=1,column=1)\n",
    "\n",
    "window.mainloop()"
   ]
  },
  {
   "cell_type": "code",
   "execution_count": 17,
   "id": "b22a0054",
   "metadata": {},
   "outputs": [],
   "source": [
    "window = Tk()\n",
    "window.geometry(\"+810+460\")\n",
    "window.title(\"ch3_24\")\n",
    "lab1 = Label(window,text='明治科技大学',bg='lightyellow',width=15)\n",
    "lab2 = Label(window,text='长庚大学',bg='lightgreen',width=15)\n",
    "lab3 = Label(window,text='长庚科技大学',bg='lightblue',width=15)\n",
    "\n",
    "lab1.grid(row=0,column=0)\n",
    "lab2.grid(row=1,column=2)\n",
    "lab3.grid(row=2,column=1)\n",
    "\n",
    "window.mainloop()"
   ]
  },
  {
   "cell_type": "markdown",
   "id": "ed1d5af1",
   "metadata": {},
   "source": [
    "## columnspan参数"
   ]
  },
  {
   "cell_type": "code",
   "execution_count": 18,
   "id": "58b19bdb",
   "metadata": {},
   "outputs": [],
   "source": [
    "window = Tk()\n",
    "window.geometry(\"+810+460\")\n",
    "window.title(\"ch3_26\")\n",
    "lab1 = Label(window,text='标签1',relief=RAISED)\n",
    "lab2 = Label(window,text='标签2',relief=RAISED)\n",
    "lab3 = Label(window,text='标签3',relief=RAISED)\n",
    "lab4 = Label(window,text='标签4',relief=RAISED)\n",
    "lab5 = Label(window,text='标签5',relief=RAISED)\n",
    "lab6 = Label(window,text='标签6',relief=RAISED)\n",
    "lab7 = Label(window,text='标签7',relief=RAISED)\n",
    "lab8 = Label(window,text='标签8',relief=RAISED)\n",
    "\n",
    "lab1.grid(row=0,column=0)\n",
    "lab2.grid(row=0,column=1)\n",
    "lab3.grid(row=0,column=2)\n",
    "lab4.grid(row=0,column=3)\n",
    "lab5.grid(row=1,column=0)\n",
    "lab6.grid(row=1,column=1)\n",
    "lab7.grid(row=1,column=2)\n",
    "lab8.grid(row=1,column=3)\n",
    "\n",
    "window.mainloop()"
   ]
  },
  {
   "cell_type": "markdown",
   "id": "ab136bfd",
   "metadata": {},
   "source": [
    "这里使用grid方法建立了8个标签。"
   ]
  },
  {
   "cell_type": "code",
   "execution_count": 15,
   "id": "a2a62806",
   "metadata": {},
   "outputs": [],
   "source": [
    "window = Tk()\n",
    "window.geometry(\"+810+460\")\n",
    "window.title(\"ch3_27\")\n",
    "lab1 = Label(window,text='标签1',relief=RAISED)\n",
    "lab2 = Label(window,text='标签2',relief=RAISED)\n",
    "lab4 = Label(window,text='标签4',relief=RAISED)\n",
    "lab5 = Label(window,text='标签5',relief=RAISED)\n",
    "lab6 = Label(window,text='标签6',relief=RAISED)\n",
    "lab7 = Label(window,text='标签7',relief=RAISED)\n",
    "lab8 = Label(window,text='标签8',relief=RAISED)\n",
    "\n",
    "lab1.grid(row=0,column=0)\n",
    "lab2.grid(row=0,column=1,columnspan=2)\n",
    "lab4.grid(row=0,column=3)\n",
    "lab5.grid(row=1,column=0)\n",
    "lab6.grid(row=1,column=1)\n",
    "lab7.grid(row=1,column=2)\n",
    "lab8.grid(row=1,column=3)\n",
    "\n",
    "window.mainloop()"
   ]
  },
  {
   "cell_type": "markdown",
   "id": "262fc333",
   "metadata": {},
   "source": [
    "这里是水平方向的columnspan，标签2和标签3合并成了一个标签"
   ]
  },
  {
   "cell_type": "code",
   "execution_count": 13,
   "id": "45fd84e8",
   "metadata": {},
   "outputs": [],
   "source": [
    "window = Tk()\n",
    "window.geometry(\"+810+460\")\n",
    "window.title(\"ch3_28\")\n",
    "lab1 = Label(window,text='标签1',relief=RAISED)\n",
    "lab2 = Label(window,text='标签2',relief=RAISED)\n",
    "lab3 = Label(window,text='标签3',relief=RAISED)\n",
    "lab4 = Label(window,text='标签4',relief=RAISED)\n",
    "lab5 = Label(window,text='标签5',relief=RAISED)\n",
    "lab7 = Label(window,text='标签7',relief=RAISED)\n",
    "lab8 = Label(window,text='标签8',relief=RAISED)\n",
    "\n",
    "lab1.grid(row=0,column=0)\n",
    "lab2.grid(row=0,column=1,rowspan=2)\n",
    "lab3.grid(row=0,column=2)\n",
    "lab4.grid(row=0,column=3)\n",
    "lab5.grid(row=1,column=0)\n",
    "lab7.grid(row=1,column=2)\n",
    "lab8.grid(row=1,column=3)\n",
    "\n",
    "window.mainloop()"
   ]
  },
  {
   "cell_type": "markdown",
   "id": "07d30414",
   "metadata": {},
   "source": [
    "这里是垂直方向的rowspan，标签2和标签6合并成了一个标签"
   ]
  },
  {
   "cell_type": "code",
   "execution_count": 14,
   "id": "77359fab",
   "metadata": {},
   "outputs": [],
   "source": [
    "window = Tk()\n",
    "window.geometry(\"+810+460\")\n",
    "window.title(\"ch3_29\")\n",
    "lab1 = Label(window,text='标签1',relief=RAISED)\n",
    "lab2 = Label(window,text='标签2',relief=RAISED)\n",
    "lab4 = Label(window,text='标签4',relief=RAISED)\n",
    "lab5 = Label(window,text='标签5',relief=RAISED)\n",
    "lab8 = Label(window,text='标签8',relief=RAISED)\n",
    "\n",
    "lab1.grid(row=0,column=0)\n",
    "lab2.grid(row=0,column=1,rowspan=2,columnspan=2)\n",
    "lab4.grid(row=0,column=3)\n",
    "lab5.grid(row=1,column=0)\n",
    "lab8.grid(row=1,column=3)\n",
    "\n",
    "window.mainloop()"
   ]
  },
  {
   "cell_type": "markdown",
   "id": "a6028f5c",
   "metadata": {},
   "source": [
    "标签2,3和标签6,7合并成了一个标签"
   ]
  },
  {
   "cell_type": "markdown",
   "id": "d70aebb5",
   "metadata": {},
   "source": [
    "## padx和pady参数"
   ]
  },
  {
   "cell_type": "code",
   "execution_count": 19,
   "id": "62d1dbe6",
   "metadata": {},
   "outputs": [],
   "source": [
    "window = Tk()\n",
    "window.geometry(\"+810+460\")\n",
    "window.title(\"ch3_30\")\n",
    "lab1 = Label(window,text='标签1',relief=RAISED)\n",
    "lab2 = Label(window,text='标签2',relief=RAISED)\n",
    "lab3 = Label(window,text='标签3',relief=RAISED)\n",
    "lab4 = Label(window,text='标签4',relief=RAISED)\n",
    "lab5 = Label(window,text='标签5',relief=RAISED)\n",
    "lab6 = Label(window,text='标签6',relief=RAISED)\n",
    "lab7 = Label(window,text='标签7',relief=RAISED)\n",
    "lab8 = Label(window,text='标签8',relief=RAISED)\n",
    "\n",
    "lab1.grid(row=0,column=0,padx=5,pady=5)\n",
    "lab2.grid(row=0,column=1,padx=5,pady=5)\n",
    "lab3.grid(row=0,column=2,padx=5,pady=5)\n",
    "lab4.grid(row=0,column=3,padx=5,pady=5)\n",
    "lab5.grid(row=1,column=0,padx=5)\n",
    "lab6.grid(row=1,column=1,padx=5)\n",
    "lab7.grid(row=1,column=2,padx=5)\n",
    "lab8.grid(row=1,column=3,padx=5)\n",
    "\n",
    "window.mainloop()"
   ]
  },
  {
   "cell_type": "markdown",
   "id": "fe9e68b4",
   "metadata": {},
   "source": [
    "使用padx和pady参数增加标签之间的间距。"
   ]
  },
  {
   "cell_type": "markdown",
   "id": "9f5f35d3",
   "metadata": {},
   "source": [
    "## stick参数"
   ]
  },
  {
   "cell_type": "code",
   "execution_count": 21,
   "id": "91180102",
   "metadata": {},
   "outputs": [],
   "source": [
    "window = Tk()\n",
    "window.geometry(\"+810+460\")\n",
    "window.title(\"ch3_31\")\n",
    "lab1 = Label(window,text='明治工专')        # 默认是居中对齐的\n",
    "lab2 = Label(window,bg='yellow',width=20)\n",
    "lab3 = Label(window,text='明志科技大学')\n",
    "lab4 = Label(window,bg='aqua',width=20)\n",
    "\n",
    "lab1.grid(row=0,column=0,padx=5,pady=5)\n",
    "lab2.grid(row=0,column=1,padx=5,pady=5)\n",
    "lab3.grid(row=1,column=0,padx=5)\n",
    "lab4.grid(row=1,column=1,padx=5)\n",
    "\n",
    "window.mainloop()"
   ]
  },
  {
   "cell_type": "markdown",
   "id": "774ab786",
   "metadata": {},
   "source": [
    "这里第一个标签默认是居中对齐的"
   ]
  },
  {
   "cell_type": "code",
   "execution_count": 25,
   "id": "1e03c569",
   "metadata": {},
   "outputs": [],
   "source": [
    "window = Tk()\n",
    "window.geometry(\"+810+460\")\n",
    "window.title(\"ch3_32\")\n",
    "lab1 = Label(window,text='明治工专')\n",
    "lab2 = Label(window,bg='yellow',width=20)\n",
    "lab3 = Label(window,text='明志科技大学')\n",
    "lab4 = Label(window,bg='aqua',width=20)\n",
    "\n",
    "lab1.grid(row=0,column=0,padx=5,pady=5,stick=W)\n",
    "lab2.grid(row=0,column=1,padx=5,pady=5)\n",
    "lab3.grid(row=1,column=0,padx=5)\n",
    "lab4.grid(row=1,column=1,padx=5)\n",
    "\n",
    "window.mainloop()"
   ]
  },
  {
   "cell_type": "markdown",
   "id": "b672ed22",
   "metadata": {},
   "source": [
    "使用stick参数使第一个标签左对齐。stick参数的功能类似anchor，但是只能使用上下左右对齐。"
   ]
  },
  {
   "cell_type": "markdown",
   "id": "86780de0",
   "metadata": {},
   "source": [
    "## stick参数的组合使用"
   ]
  },
  {
   "cell_type": "markdown",
   "id": "0ceeacfc",
   "metadata": {},
   "source": [
    "stick=N+S: 可以拉长高度让控件在顶端和底端对齐。<br />stick=W+E: 可以拉长宽度让控件在左边和右边对齐。<br />stick=N+S+E: 可以拉长高度让控件在顶端和底端对齐,同时切齐右边。<br />stick=N+S+W: 可以拉长高度让控件在顶端和底端对齐,同时切齐左边。<br />stick=N+S+W+E: 可以拉长高度让控件在顶端和底端对齐,同时切齐左右边。"
   ]
  },
  {
   "cell_type": "code",
   "execution_count": 27,
   "id": "25c5040b",
   "metadata": {},
   "outputs": [],
   "source": [
    "window = Tk()\n",
    "window.geometry(\"+810+460\")\n",
    "window.title(\"ch3_33\")\n",
    "lab1 = Label(window,text='明治工专',relief=RAISED)\n",
    "lab2 = Label(window,bg='yellow',width=20)\n",
    "lab3 = Label(window,text='明志科技大学',relief=RAISED)\n",
    "lab4 = Label(window,bg='aqua',width=20)\n",
    "\n",
    "lab1.grid(row=0,column=0,padx=5,pady=5)\n",
    "lab2.grid(row=0,column=1,padx=5,pady=5)\n",
    "lab3.grid(row=1,column=0,padx=5)\n",
    "lab4.grid(row=1,column=1,padx=5)\n",
    "\n",
    "window.mainloop()"
   ]
  },
  {
   "cell_type": "markdown",
   "id": "c94a7a0a",
   "metadata": {},
   "source": [
    "先不使用stick参数，看下标签的宽度。"
   ]
  },
  {
   "cell_type": "code",
   "execution_count": 26,
   "id": "691d391b",
   "metadata": {},
   "outputs": [],
   "source": [
    "window = Tk()\n",
    "window.geometry(\"+810+460\")\n",
    "window.title(\"ch3_33\")\n",
    "lab1 = Label(window,text='明治工专',relief=RAISED)\n",
    "lab2 = Label(window,bg='yellow',width=20)\n",
    "lab3 = Label(window,text='明志科技大学',relief=RAISED)\n",
    "lab4 = Label(window,bg='aqua',width=20)\n",
    "\n",
    "lab1.grid(row=0,column=0,padx=5,pady=5,stick=W+E)\n",
    "lab2.grid(row=0,column=1,padx=5,pady=5)\n",
    "lab3.grid(row=1,column=0,padx=5)\n",
    "lab4.grid(row=1,column=1,padx=5)\n",
    "\n",
    "window.mainloop()"
   ]
  },
  {
   "cell_type": "markdown",
   "id": "7ceaa005",
   "metadata": {},
   "source": [
    "使用stick=W+E后，控件左右对齐了，撑齐。"
   ]
  },
  {
   "cell_type": "markdown",
   "id": "e56386f3",
   "metadata": {},
   "source": [
    "## 建立彩色标签"
   ]
  },
  {
   "cell_type": "code",
   "execution_count": 28,
   "id": "5abeec16",
   "metadata": {},
   "outputs": [],
   "source": [
    "root = Tk()\n",
    "root.geometry(\"+810+460\")\n",
    "root.title(\"ch3_35\")\n",
    "Colors = ['red','orange','yellow','green','blue','purple']\n",
    "\n",
    "r=0\n",
    "for c in Colors:\n",
    "    Label(root,text=c,relief=GROOVE,width=20).grid(row=r,column=0)\n",
    "    Label(root,bg=c,relief=RIDGE,width=20).grid(row=r,column=1)\n",
    "    r += 1\n",
    "\n",
    "root.mainloop()"
   ]
  },
  {
   "cell_type": "markdown",
   "id": "ecb4fae4",
   "metadata": {},
   "source": [
    "## rowconfigure()和columnconfigure()"
   ]
  },
  {
   "cell_type": "code",
   "execution_count": 33,
   "id": "8a3b2113",
   "metadata": {},
   "outputs": [],
   "source": [
    "root = Tk()\n",
    "root.geometry(\"+810+460\")\n",
    "root.title(\"ch3_35_1\")\n",
    "\n",
    "root.rowconfigure(1, weight=1)       # row 1 的控件当窗口改变大小时缩放比例是1\n",
    "root.columnconfigure(0, weight=1)    # column 0 的控件当窗口改变大小时缩放比例是1\n",
    "\n",
    "lab1 = Label(root,text='Label 1',bg='pink')\n",
    "lab1.grid(row=0,column=0,padx=5,pady=5)\n",
    "\n",
    "lab2 = Label(root,text='Label 2',bg='lightblue')\n",
    "lab2.grid(row=0,column=1,padx=5,pady=5)\n",
    "\n",
    "lab3 = Label(root,bg='yellow')\n",
    "lab3.grid(row=1,column=0,columnspan=2,padx=5,pady=5)\n",
    "\n",
    "root.mainloop()"
   ]
  },
  {
   "cell_type": "markdown",
   "id": "9c733c6f",
   "metadata": {},
   "source": [
    "遇到缩放窗口的时候，可以使用这两个方法设定第几个row或column的缩放比例。\n",
    "此处先不使用sticky参数。"
   ]
  },
  {
   "cell_type": "code",
   "execution_count": 34,
   "id": "c3a29e64",
   "metadata": {},
   "outputs": [],
   "source": [
    "root = Tk()\n",
    "root.geometry(\"+810+460\")\n",
    "root.title(\"ch3_35_2\")\n",
    "\n",
    "root.rowconfigure(1, weight=1)       # row 1 的控件当窗口改变大小时缩放比例是1\n",
    "root.columnconfigure(0, weight=1)    # column 0 的控件当窗口改变大小时缩放比例是1\n",
    "\n",
    "lab1 = Label(root,text='Label 1',bg='pink')\n",
    "lab1.grid(row=0,column=0,padx=5,pady=5,sticky=W)\n",
    "\n",
    "lab2 = Label(root,text='Label 2',bg='lightblue')\n",
    "lab2.grid(row=0,column=1,padx=5,pady=5)\n",
    "\n",
    "lab3 = Label(root,bg='yellow')\n",
    "lab3.grid(row=1,column=0,columnspan=2,padx=5,pady=5,\n",
    "         sticky=N+S+W+E)\n",
    "\n",
    "root.mainloop()"
   ]
  },
  {
   "cell_type": "markdown",
   "id": "fd9c42d5",
   "metadata": {},
   "source": [
    "增加设计lab1的sticky=W，使其可以切齐左边。同时让下方的标签可以对齐上、下、左、右边。"
   ]
  },
  {
   "cell_type": "code",
   "execution_count": 35,
   "id": "75ae8880",
   "metadata": {},
   "outputs": [],
   "source": [
    "root = Tk()\n",
    "root.geometry(\"+810+460\")\n",
    "root.title(\"ch3_35_3\")\n",
    "\n",
    "root.rowconfigure(1, weight=1)       # row 1 的控件当窗口改变大小时缩放比例是1\n",
    "root.columnconfigure(0, weight=1)    # column 0 的控件当窗口改变大小时缩放比例是1\n",
    "\n",
    "lab1 = Label(root,text='Label 1',bg='pink')\n",
    "lab1.grid(row=0,column=0,padx=5,pady=5,sticky=W+E)\n",
    "\n",
    "lab2 = Label(root,text='Label 2',bg='lightblue')\n",
    "lab2.grid(row=0,column=1,padx=5,pady=5)\n",
    "\n",
    "lab3 = Label(root,bg='yellow')\n",
    "lab3.grid(row=1,column=0,columnspan=2,padx=5,pady=5,\n",
    "         sticky=N+S+W+E)\n",
    "\n",
    "root.mainloop()"
   ]
  },
  {
   "cell_type": "markdown",
   "id": "4bc99ab3",
   "metadata": {},
   "source": [
    "使lab1控件可以左右对齐，同时放大窗口时有扩展效果。"
   ]
  }
 ],
 "metadata": {
  "kernelspec": {
   "display_name": "Python 3 (ipykernel)",
   "language": "python",
   "name": "python3"
  },
  "language_info": {
   "codemirror_mode": {
    "name": "ipython",
    "version": 3
   },
   "file_extension": ".py",
   "mimetype": "text/x-python",
   "name": "python",
   "nbconvert_exporter": "python",
   "pygments_lexer": "ipython3",
   "version": "3.11.5"
  },
  "toc": {
   "base_numbering": 1,
   "nav_menu": {},
   "number_sections": true,
   "sideBar": true,
   "skip_h1_title": false,
   "title_cell": "Table of Contents",
   "title_sidebar": "Contents",
   "toc_cell": false,
   "toc_position": {
    "height": "calc(100% - 180px)",
    "left": "10px",
    "top": "150px",
    "width": "267px"
   },
   "toc_section_display": true,
   "toc_window_display": true
  }
 },
 "nbformat": 4,
 "nbformat_minor": 5
}
