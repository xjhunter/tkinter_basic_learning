{
 "cells": [
  {
   "cell_type": "markdown",
   "id": "feac375c",
   "metadata": {},
   "source": [
    "# 第二章 标签Label"
   ]
  },
  {
   "cell_type": "code",
   "execution_count": 1,
   "id": "3f1bd4b5",
   "metadata": {},
   "outputs": [],
   "source": [
    "from tkinter import *\n",
    "from tkinter.ttk import Separator"
   ]
  },
  {
   "cell_type": "markdown",
   "id": "979e84e5",
   "metadata": {},
   "source": [
    "## ch2_1 建立一个标签"
   ]
  },
  {
   "cell_type": "code",
   "execution_count": 17,
   "id": "de8e6370",
   "metadata": {},
   "outputs": [
    {
     "name": "stdout",
     "output_type": "stream",
     "text": [
      "<class 'tkinter.Label'>\n"
     ]
    }
   ],
   "source": [
    "root = Tk()\n",
    "root.geometry(\"200x50+810+460\")\n",
    "root.title(\"ch2_1\")\n",
    "label = Label(root,text='I like tkinter')\n",
    "label.pack()\n",
    "print(type(label))\n",
    "\n",
    "root.mainloop()"
   ]
  },
  {
   "cell_type": "markdown",
   "id": "cec971c8",
   "metadata": {},
   "source": [
    "这里注意打印的label变量的类型为tkinter.Label"
   ]
  },
  {
   "cell_type": "markdown",
   "id": "a296b6a3",
   "metadata": {},
   "source": [
    "## ch2_2 使用Label().pack()方式重新设计上例"
   ]
  },
  {
   "cell_type": "code",
   "execution_count": 18,
   "id": "09d10d03",
   "metadata": {},
   "outputs": [
    {
     "name": "stdout",
     "output_type": "stream",
     "text": [
      "<class 'NoneType'>\n"
     ]
    }
   ],
   "source": [
    "root = Tk()\n",
    "root.geometry(\"200x50+810+460\")\n",
    "root.title(\"ch2_2\")\n",
    "label = Label(root,text='I like tkinter').pack()\n",
    "print(type(label))\n",
    "\n",
    "root.mainloop()"
   ]
  },
  {
   "cell_type": "markdown",
   "id": "ecc6c5ef",
   "metadata": {},
   "source": [
    "这里注意打印的label变量的类型为空"
   ]
  },
  {
   "cell_type": "markdown",
   "id": "34f0cb73",
   "metadata": {},
   "source": [
    "## ch2_3 设置标签文字的前景色和背景色"
   ]
  },
  {
   "cell_type": "code",
   "execution_count": 19,
   "id": "8704343e",
   "metadata": {},
   "outputs": [],
   "source": [
    "root = Tk()\n",
    "root.geometry(\"200x50+810+460\")\n",
    "root.title(\"ch2_3\")\n",
    "label = Label(root,text='I like tkinter',\n",
    "             fg='blue',bg='yellow')\n",
    "label.pack()\n",
    "\n",
    "root.mainloop()"
   ]
  },
  {
   "cell_type": "markdown",
   "id": "05c53264",
   "metadata": {},
   "source": [
    "## ch2_4 设置标签文字的颜色及尺寸"
   ]
  },
  {
   "cell_type": "code",
   "execution_count": 20,
   "id": "ca29ae05",
   "metadata": {
    "scrolled": true
   },
   "outputs": [],
   "source": [
    "root = Tk()\n",
    "root.geometry(\"200x50+810+460\")\n",
    "root.title(\"ch2_4\")\n",
    "label = Label(root,text='I like tkinter',\n",
    "             fg='blue',bg='yellow',\n",
    "             width=15,height=3)\n",
    "label.pack()\n",
    "\n",
    "root.mainloop()"
   ]
  },
  {
   "cell_type": "markdown",
   "id": "f8823b9a",
   "metadata": {},
   "source": [
    "## ch2_5 设置字符串左上显示"
   ]
  },
  {
   "cell_type": "code",
   "execution_count": 21,
   "id": "43101c26",
   "metadata": {},
   "outputs": [],
   "source": [
    "root = Tk()\n",
    "root.geometry(\"200x50+810+460\")\n",
    "root.title(\"ch2_5\")\n",
    "label = Label(root,text='I like tkinter',\n",
    "             fg='blue',bg='yellow',\n",
    "             width=15,height=3,\n",
    "             anchor=NW)\n",
    "label.pack()\n",
    "\n",
    "root.mainloop()"
   ]
  },
  {
   "cell_type": "markdown",
   "id": "704d30ee",
   "metadata": {},
   "source": [
    "这里使用anchor选项，让字符串从标签区间左上角位置开始显示，其它常用的方位表示如下："
   ]
  },
  {
   "cell_type": "code",
   "execution_count": null,
   "id": "2bfc8847",
   "metadata": {},
   "outputs": [],
   "source": [
    "NW      N       NE     \n",
    "W    CENTER     E\n",
    "SW      S       SE"
   ]
  },
  {
   "cell_type": "markdown",
   "id": "05a2dc1a",
   "metadata": {},
   "source": [
    "## ch2_7 标签文字自动换行"
   ]
  },
  {
   "cell_type": "code",
   "execution_count": 23,
   "id": "08b4c31b",
   "metadata": {},
   "outputs": [],
   "source": [
    "root = Tk()\n",
    "root.geometry(\"200x80+810+460\")\n",
    "root.title(\"ch2_7\")\n",
    "label = Label(root,text='I like tkinter',\n",
    "             fg='blue',bg='yellow',\n",
    "             width=15,height=3,\n",
    "             anchor=NW,\n",
    "             wraplength=35)\n",
    "label.pack()\n",
    "\n",
    "root.mainloop()"
   ]
  },
  {
   "cell_type": "markdown",
   "id": "ba3fcae5",
   "metadata": {},
   "source": [
    "这里使用wraplength选项让标签中的文字达到35像素宽度后自动换行"
   ]
  },
  {
   "cell_type": "markdown",
   "id": "eafd8580",
   "metadata": {},
   "source": [
    "## ch2_8 字体的使用"
   ]
  },
  {
   "cell_type": "code",
   "execution_count": 27,
   "id": "b27afa35",
   "metadata": {},
   "outputs": [],
   "source": [
    "root = Tk()\n",
    "root.geometry(\"400x50+810+460\")\n",
    "root.title(\"ch2_8\")\n",
    "label = Label(root,text='I like tkinter',\n",
    "             fg='blue',bg='yellow',\n",
    "             width=15,height=3,\n",
    "             font=\"Helvetic 20 bold\")\n",
    "label.pack()\n",
    "\n",
    "root.mainloop()"
   ]
  },
  {
   "cell_type": "markdown",
   "id": "960d2c02",
   "metadata": {},
   "source": [
    "font选项使用字符串类型，bold表示粗体"
   ]
  },
  {
   "cell_type": "code",
   "execution_count": 29,
   "id": "3759cfab",
   "metadata": {},
   "outputs": [],
   "source": [
    "root = Tk()\n",
    "root.geometry(\"400x50+810+460\")\n",
    "root.title(\"ch2_8_1\")\n",
    "label = Label(root,text='I like tkinter',\n",
    "             fg='blue',bg='yellow',\n",
    "             width=15,height=3,\n",
    "             font=(\"Helvetic\",20,\"bold\"))\n",
    "label.pack()\n",
    "\n",
    "root.mainloop()"
   ]
  },
  {
   "cell_type": "markdown",
   "id": "a855e21b",
   "metadata": {},
   "source": [
    "font选项使用元组"
   ]
  },
  {
   "cell_type": "markdown",
   "id": "958be391",
   "metadata": {},
   "source": [
    "## ch2_9 多行输出最后一行居中对齐"
   ]
  },
  {
   "cell_type": "code",
   "execution_count": 33,
   "id": "1695d01f",
   "metadata": {},
   "outputs": [],
   "source": [
    "root = Tk()\n",
    "root.geometry(\"200x50+810+460\")\n",
    "root.title(\"ch2_9\")\n",
    "label = Label(root,text='abcdefghyruehudgygygeydgwwde',\n",
    "             fg='blue',bg='yellow',\n",
    "             wraplength=80)\n",
    "label.pack()\n",
    "\n",
    "root.mainloop()"
   ]
  },
  {
   "cell_type": "markdown",
   "id": "21d8376f",
   "metadata": {},
   "source": [
    "这里可以看到，标签文本较长，将分成三行显示，最后一行默认使用居中对齐"
   ]
  },
  {
   "cell_type": "code",
   "execution_count": 34,
   "id": "3b5d15be",
   "metadata": {},
   "outputs": [],
   "source": [
    "root = Tk()\n",
    "root.geometry(\"240x50+810+460\")\n",
    "root.title(\"ch2_10\")\n",
    "label = Label(root,text='abcdefghyruehudgygygeydgwwde',\n",
    "             fg='blue',bg='yellow',\n",
    "             wraplength=80,\n",
    "             justify=\"left\")\n",
    "label.pack()\n",
    "\n",
    "root.mainloop()"
   ]
  },
  {
   "cell_type": "markdown",
   "id": "a9dbbaff",
   "metadata": {},
   "source": [
    "这里使用justify选项改变文字的显示位置为左对齐，其它选项还有：center和right"
   ]
  },
  {
   "cell_type": "markdown",
   "id": "151ca70b",
   "metadata": {},
   "source": [
    "## ch2_13 标签使用内置位图"
   ]
  },
  {
   "cell_type": "code",
   "execution_count": 36,
   "id": "30f518f5",
   "metadata": {},
   "outputs": [],
   "source": [
    "root = Tk()\n",
    "root.geometry(\"230x50+810+460\")\n",
    "root.title(\"ch2_13\")\n",
    "label = Label(root,bitmap=\"hourglass\")\n",
    "label.pack()\n",
    "\n",
    "root.mainloop()"
   ]
  },
  {
   "cell_type": "markdown",
   "id": "19da1003",
   "metadata": {},
   "source": [
    "## ch2_14 图像与文字共存时图像的位置"
   ]
  },
  {
   "cell_type": "code",
   "execution_count": 39,
   "id": "ac6866c9",
   "metadata": {},
   "outputs": [],
   "source": [
    "root = Tk()\n",
    "root.geometry(\"230x50+810+460\")\n",
    "root.title(\"ch2_14\")\n",
    "label = Label(root,bitmap=\"hourglass\",\n",
    "             text=\"我的天空\",\n",
    "             compound=LEFT)\n",
    "label.pack()\n",
    "\n",
    "root.mainloop()"
   ]
  },
  {
   "cell_type": "markdown",
   "id": "c1e3a5ac",
   "metadata": {},
   "source": [
    "这里必须要使用compound选项才能将位图和文字都显示出来，如果不指定compound，则文字是显示不出的, compound=LEFT指图片居左显示。"
   ]
  },
  {
   "cell_type": "markdown",
   "id": "804e937b",
   "metadata": {},
   "source": [
    "compound的选项有：LEFT,RIGHT,TOP,BOTTOM,CENTER  共5组"
   ]
  },
  {
   "cell_type": "markdown",
   "id": "5c8e8cce",
   "metadata": {},
   "source": [
    "## ch2_17 relief属性"
   ]
  },
  {
   "cell_type": "markdown",
   "id": "d7e46e08",
   "metadata": {},
   "source": [
    "可取值为FLAT,RAISED,SUNKEN,GROOVE,RIDGE,SOLID，共6组  组件边框效果如下"
   ]
  },
  {
   "cell_type": "code",
   "execution_count": 41,
   "id": "892f6516",
   "metadata": {},
   "outputs": [],
   "source": [
    "root = Tk()\n",
    "root.geometry(\"400x100+810+460\")\n",
    "root.title(\"ch2_17\")\n",
    "label1 = Label(root,text=\"不设置relief\")\n",
    "label1.pack()\n",
    "\n",
    "label2 = Label(root,text=\"FLAT\",relief=FLAT)\n",
    "label2.pack(side=LEFT,padx=5)\n",
    "\n",
    "label3 = Label(root,text=\"RAISED\",relief=RAISED)\n",
    "label3.pack(side=LEFT,padx=5)\n",
    "\n",
    "label4 = Label(root,text=\"SUNKEN\",relief=SUNKEN)\n",
    "label4.pack(side=LEFT,padx=5)\n",
    "\n",
    "label5 = Label(root,text=\"GROOVE\",relief=GROOVE)\n",
    "label5.pack(side=LEFT,padx=5)\n",
    "\n",
    "label6 = Label(root,text=\"RIDGE\",relief=RIDGE)\n",
    "label6.pack(side=LEFT,padx=5)\n",
    "\n",
    "label7 = Label(root,text=\"SOLID\",relief=SOLID)\n",
    "label7.pack(side=LEFT,padx=5)\n",
    "\n",
    "root.mainloop()"
   ]
  },
  {
   "cell_type": "markdown",
   "id": "c48f5a11",
   "metadata": {},
   "source": [
    "## ch2_18 padx和pady属性"
   ]
  },
  {
   "cell_type": "code",
   "execution_count": 48,
   "id": "4415f943",
   "metadata": {},
   "outputs": [],
   "source": [
    "root = Tk()\n",
    "root.geometry(\"300x100+810+460\")\n",
    "root.title(\"ch2_18\")\n",
    "label = Label(root,text=\"RAISED\",relief=RAISED,\n",
    "             bg='yellow',\n",
    "             padx=100,pady=25)\n",
    "label.pack()\n",
    "\n",
    "root.mainloop()"
   ]
  },
  {
   "cell_type": "markdown",
   "id": "2dc2f7aa",
   "metadata": {},
   "source": [
    "padx和pady可以用来调整标签文字和标签区间的左右上下间距"
   ]
  },
  {
   "cell_type": "markdown",
   "id": "05e66d8e",
   "metadata": {},
   "source": [
    "## ch2_19 图像PhotoImage"
   ]
  },
  {
   "cell_type": "code",
   "execution_count": 56,
   "id": "07e47373",
   "metadata": {},
   "outputs": [],
   "source": [
    "root = Tk()\n",
    "root.geometry(\"400x200+810+460\")\n",
    "root.title(\"ch2_19\")\n",
    "\n",
    "html_gif = PhotoImage(file=r'./res/2023-11-22_091939.gif')\n",
    "label = Label(root,image=html_gif)\n",
    "label.pack()\n",
    "\n",
    "root.mainloop()"
   ]
  },
  {
   "cell_type": "markdown",
   "id": "dc7ea4c3",
   "metadata": {},
   "source": [
    "这里是gif图片的演示。"
   ]
  },
  {
   "cell_type": "markdown",
   "id": "0f6457f4",
   "metadata": {},
   "source": [
    "## ch2_19_1 换jpg试试"
   ]
  },
  {
   "cell_type": "markdown",
   "id": "06e8bb62",
   "metadata": {},
   "source": [
    "jpg需要借助PIL模块的Image和ImageTk模块，请先安装pillow模块，然后"
   ]
  },
  {
   "cell_type": "code",
   "execution_count": 59,
   "id": "1e4d97da",
   "metadata": {},
   "outputs": [],
   "source": [
    "from PIL import Image, ImageTk\n",
    "\n",
    "root = Tk()\n",
    "root.geometry(\"450x250+810+460\")\n",
    "root.title(\"ch2_19_1\")\n",
    "\n",
    "image = Image.open(r'./res/2023-11-22_094024.jpg')\n",
    "file_jpg = ImageTk.PhotoImage(image)\n",
    "label = Label(root,image=file_jpg)\n",
    "label.pack()\n",
    "\n",
    "root.mainloop()"
   ]
  },
  {
   "cell_type": "markdown",
   "id": "eb78c62d",
   "metadata": {},
   "source": [
    "## ch2_20 compound参数使图像与文件标签共存"
   ]
  },
  {
   "cell_type": "code",
   "execution_count": 62,
   "id": "d6e2fc04",
   "metadata": {},
   "outputs": [],
   "source": [
    "root = Tk()\n",
    "root.geometry(\"650x250+810+460\")\n",
    "root.title(\"ch2_20\")\n",
    "\n",
    "sseText = \"\"\"SSE全名是SILICON STONE EDUCATION，这家公司在美国，\n",
    "这是一家国际专业证照公司，产品多元与丰富。\"\"\"\n",
    "sse_gif = PhotoImage(file=r'./res/4.gif')\n",
    "label = Label(root,text=sseText,image=sse_gif,bg='lightyellow',\n",
    "             compound=LEFT)\n",
    "label.pack()\n",
    "\n",
    "root.mainloop()"
   ]
  },
  {
   "cell_type": "markdown",
   "id": "34aa5e10",
   "metadata": {},
   "source": [
    "这里可以看到，compound的作用是确定图片放在左边还是右边， 这里将图片放到了左侧，可选：LEFT, RIGHT, TOP, BOTTOM, CENTER"
   ]
  },
  {
   "cell_type": "markdown",
   "id": "11c15a0e",
   "metadata": {},
   "source": [
    "另外，第二行文字默认是居中对齐的，可以使用justify参数指定其位置， 可选LEFT, RIGHT  请看下面的例子"
   ]
  },
  {
   "cell_type": "markdown",
   "id": "89f9db37",
   "metadata": {},
   "source": [
    "## ch2_21 compound参数使图像与文件标签共存, justify参数"
   ]
  },
  {
   "cell_type": "code",
   "execution_count": 65,
   "id": "0cb08983",
   "metadata": {},
   "outputs": [],
   "source": [
    "root = Tk()\n",
    "root.geometry(\"650x250+810+460\")\n",
    "root.title(\"ch2_21\")\n",
    "\n",
    "sseText = \"\"\"SSE全名是SILICON STONE EDUCATION，这家公司在美国，\n",
    "这是一家国际专业证照公司，产品多元与丰富。\"\"\"\n",
    "sse_gif = PhotoImage(file=r'./res/4.gif')\n",
    "label = Label(root,text=sseText,image=sse_gif,bg='lightyellow',\n",
    "             justify=LEFT,compound=RIGHT)\n",
    "label.pack()\n",
    "\n",
    "root.mainloop()"
   ]
  },
  {
   "cell_type": "markdown",
   "id": "92bc987e",
   "metadata": {},
   "source": [
    " 这里将图片放到了右侧，且第二行文字左对齐"
   ]
  },
  {
   "cell_type": "markdown",
   "id": "9716ee64",
   "metadata": {},
   "source": [
    "## ch2_23 config()方法，计数器设计"
   ]
  },
  {
   "cell_type": "code",
   "execution_count": 71,
   "id": "6f98c3c2",
   "metadata": {},
   "outputs": [],
   "source": [
    "counter = 0\n",
    "\n",
    "def run_counter(digit):\n",
    "    def counting():\n",
    "        global counter\n",
    "        counter += 1\n",
    "        digit.config(text=str(counter))\n",
    "        digit.after(1000,counting)          # 隔1秒后调用counting\n",
    "    counting()                              # 持续调用\n",
    "\n",
    "\n",
    "root = Tk()\n",
    "root.geometry(\"300x120+810+460\")\n",
    "root.title(\"ch2_23\")\n",
    "digit = Label(root,bg='yellow',fg='blue',\n",
    "             width=10,height=3,\n",
    "             font=\"Helvetic 20 bold\")\n",
    "digit.pack()\n",
    "run_counter(digit)\n",
    "\n",
    "root.mainloop()"
   ]
  },
  {
   "cell_type": "markdown",
   "id": "78d7df85",
   "metadata": {},
   "source": [
    "这个程序会每秒更新一次计数器内容。"
   ]
  },
  {
   "cell_type": "markdown",
   "id": "61a79886",
   "metadata": {},
   "source": [
    "## ch2_24 光标的形状"
   ]
  },
  {
   "cell_type": "code",
   "execution_count": 75,
   "id": "a880bc0f",
   "metadata": {},
   "outputs": [],
   "source": [
    "root = Tk()\n",
    "root.geometry(\"230x100+810+460\")\n",
    "root.title(\"ch2_24\")\n",
    "label = Label(root,text=\"RAISED\",relief=RAISED,\n",
    "             bg='lightyellow',\n",
    "             padx=25,pady=25,\n",
    "             cursor='heart')\n",
    "label.pack()\n",
    "\n",
    "root.mainloop()"
   ]
  },
  {
   "cell_type": "markdown",
   "id": "3361ed14",
   "metadata": {},
   "source": [
    "光标移动到区域后会改变。"
   ]
  },
  {
   "cell_type": "markdown",
   "id": "10e922b4",
   "metadata": {},
   "source": [
    "## ch2_25 keys()方法"
   ]
  },
  {
   "cell_type": "markdown",
   "id": "51512044",
   "metadata": {},
   "source": [
    "keys()可以用列表传回这个Widget所有的参数。"
   ]
  },
  {
   "cell_type": "code",
   "execution_count": 76,
   "id": "2f57cb09",
   "metadata": {
    "scrolled": true
   },
   "outputs": [
    {
     "name": "stdout",
     "output_type": "stream",
     "text": [
      "['activebackground', 'activeforeground', 'anchor', 'background', 'bd', 'bg', 'bitmap', 'borderwidth', 'compound', 'cursor', 'disabledforeground', 'fg', 'font', 'foreground', 'height', 'highlightbackground', 'highlightcolor', 'highlightthickness', 'image', 'justify', 'padx', 'pady', 'relief', 'state', 'takefocus', 'text', 'textvariable', 'underline', 'width', 'wraplength']\n"
     ]
    }
   ],
   "source": [
    "root = Tk()\n",
    "root.geometry(\"230x100+810+460\")\n",
    "root.title(\"ch2_25\")\n",
    "label = Label(root,text='I like tkinter')\n",
    "label.pack()\n",
    "print(label.keys())\n",
    "\n",
    "root.mainloop()"
   ]
  },
  {
   "cell_type": "markdown",
   "id": "6d6965b3",
   "metadata": {},
   "source": [
    "这里可以看到Label返回的单数列表。"
   ]
  },
  {
   "cell_type": "markdown",
   "id": "fec6e30f",
   "metadata": {},
   "source": [
    "## ch2_26 分隔线Separator"
   ]
  },
  {
   "cell_type": "markdown",
   "id": "e01f1e8a",
   "metadata": {},
   "source": [
    "在标签间建立分隔线。"
   ]
  },
  {
   "cell_type": "code",
   "execution_count": 79,
   "id": "f76d97be",
   "metadata": {},
   "outputs": [],
   "source": [
    "root = Tk()\n",
    "root.geometry(\"500x200+810+460\")\n",
    "root.title(\"ch2_26\")\n",
    "\n",
    "myTitle = \"一个人的极境旅行\"\n",
    "myContent = \"\"\"2016年12月，我一个人订了机票和船票，\n",
    "开始我的南极旅行，飞机经迪拜再往阿根廷的乌斯怀亚，\n",
    "在此我登上邮轮开始我的南极之旅\"\"\"\n",
    "\n",
    "lab1 = Label(root,text=myTitle,font=\"Helvetic 20 bold\")\n",
    "lab1.pack(padx=10,pady=10)\n",
    "\n",
    "sep = Separator(root,orient=HORIZONTAL)\n",
    "sep.pack(fill=X,padx=5)\n",
    "\n",
    "lab2 = Label(root,text=myContent)\n",
    "lab2.pack(padx=10,pady=10)\n",
    "\n",
    "root.mainloop()"
   ]
  },
  {
   "cell_type": "markdown",
   "id": "091f89b2",
   "metadata": {},
   "source": [
    "13行的代码，X表示分隔线填充满X轴，与窗口边界左右均相距5个像素。"
   ]
  }
 ],
 "metadata": {
  "kernelspec": {
   "display_name": "Python 3 (ipykernel)",
   "language": "python",
   "name": "python3"
  },
  "language_info": {
   "codemirror_mode": {
    "name": "ipython",
    "version": 3
   },
   "file_extension": ".py",
   "mimetype": "text/x-python",
   "name": "python",
   "nbconvert_exporter": "python",
   "pygments_lexer": "ipython3",
   "version": "3.11.5"
  },
  "toc": {
   "base_numbering": 1,
   "nav_menu": {},
   "number_sections": true,
   "sideBar": true,
   "skip_h1_title": false,
   "title_cell": "Table of Contents",
   "title_sidebar": "Contents",
   "toc_cell": false,
   "toc_position": {
    "height": "calc(100% - 180px)",
    "left": "10px",
    "top": "150px",
    "width": "306px"
   },
   "toc_section_display": true,
   "toc_window_display": true
  }
 },
 "nbformat": 4,
 "nbformat_minor": 5
}
