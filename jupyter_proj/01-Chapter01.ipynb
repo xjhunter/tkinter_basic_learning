{
 "cells": [
  {
   "cell_type": "markdown",
   "id": "5d538909",
   "metadata": {},
   "source": [
    "# 第一章 基本概念"
   ]
  },
  {
   "cell_type": "code",
   "execution_count": 1,
   "id": "d2d619d0",
   "metadata": {},
   "outputs": [],
   "source": [
    "from tkinter import *"
   ]
  },
  {
   "cell_type": "markdown",
   "id": "83b1cf28",
   "metadata": {},
   "source": [
    "## ch1_0 打印tkinter版本号"
   ]
  },
  {
   "cell_type": "code",
   "execution_count": 2,
   "id": "5e71f984",
   "metadata": {},
   "outputs": [
    {
     "name": "stdout",
     "output_type": "stream",
     "text": [
      "8.6\n"
     ]
    }
   ],
   "source": [
    "print(TkVersion)"
   ]
  },
  {
   "cell_type": "markdown",
   "id": "d0257aef",
   "metadata": {},
   "source": [
    "## ch1_1 建立空白窗口"
   ]
  },
  {
   "cell_type": "code",
   "execution_count": 3,
   "id": "a276915a",
   "metadata": {},
   "outputs": [],
   "source": [
    "root = Tk()\n",
    "root.mainloop()"
   ]
  },
  {
   "cell_type": "markdown",
   "id": "94f6d793",
   "metadata": {},
   "source": [
    "运行后可以缩放窗口大小"
   ]
  },
  {
   "cell_type": "markdown",
   "id": "3bbb6ba1",
   "metadata": {},
   "source": [
    "## ch1_2 设置窗口大小及标题"
   ]
  },
  {
   "cell_type": "code",
   "execution_count": 4,
   "id": "7f7f621b",
   "metadata": {},
   "outputs": [],
   "source": [
    "root = Tk()\n",
    "root.title(\"MyWindow\")        # 窗口标题\n",
    "root.geometry(\"300x160\")      # 窗口大小\n",
    "root.configure(bg='yellow')   # 窗口背景色\n",
    "root.mainloop()"
   ]
  },
  {
   "cell_type": "markdown",
   "id": "cb1be2db",
   "metadata": {},
   "source": [
    "## ch1_4 指定窗口生成起始坐标"
   ]
  },
  {
   "cell_type": "code",
   "execution_count": 12,
   "id": "81a5348e",
   "metadata": {},
   "outputs": [],
   "source": [
    "root = Tk()\n",
    "root.geometry(\"300x160+400+200\")  # 距离屏幕左上角(400, 200)\n",
    "root.mainloop()"
   ]
  },
  {
   "cell_type": "markdown",
   "id": "a452ba6a",
   "metadata": {},
   "source": [
    "## ch1_5 重新设计geometry方法"
   ]
  },
  {
   "cell_type": "code",
   "execution_count": 7,
   "id": "ebe16900",
   "metadata": {},
   "outputs": [],
   "source": [
    "root = Tk()\n",
    "w = 300\n",
    "h = 160 \n",
    "x = 400\n",
    "y = 200\n",
    "root.geometry(\"%dx%d+%d+%d\" % (w,h,x,y))\n",
    "root.mainloop()"
   ]
  },
  {
   "cell_type": "markdown",
   "id": "daa89e86",
   "metadata": {},
   "source": [
    "与上例效果相同"
   ]
  },
  {
   "cell_type": "markdown",
   "id": "9c2d3e32",
   "metadata": {},
   "source": [
    "## ch1_6 窗口放在屏幕中央"
   ]
  },
  {
   "cell_type": "code",
   "execution_count": 9,
   "id": "4d93f272",
   "metadata": {
    "scrolled": true
   },
   "outputs": [
    {
     "name": "stdout",
     "output_type": "stream",
     "text": [
      "['bd', 'borderwidth', 'class', 'menu', 'relief', 'screen', 'use', 'background', 'bg', 'colormap', 'container', 'cursor', 'height', 'highlightbackground', 'highlightcolor', 'highlightthickness', 'padx', 'pady', 'takefocus', 'visual', 'width']\n"
     ]
    }
   ],
   "source": [
    "root = Tk()\n",
    "print(root.keys())\n",
    "screenWidth = root.winfo_screenwidth()     # 屏幕宽度\n",
    "screenHeight = root.winfo_screenheight()   # 屏幕高度\n",
    "w = 300\n",
    "h = 160 \n",
    "x = (screenWidth - w) / 2\n",
    "y = (screenHeight - h) / 2\n",
    "root.geometry(\"%dx%d+%d+%d\" % (w,h,x,y))\n",
    "root.mainloop()"
   ]
  },
  {
   "cell_type": "markdown",
   "id": "94428962",
   "metadata": {},
   "source": [
    "## ch1_7 打印屏幕中央坐标点方便之后构建窗口直接使用"
   ]
  },
  {
   "cell_type": "code",
   "execution_count": 19,
   "id": "ec3d247e",
   "metadata": {},
   "outputs": [
    {
     "name": "stdout",
     "output_type": "stream",
     "text": [
      "['bd', 'borderwidth', 'class', 'menu', 'relief', 'screen', 'use', 'background', 'bg', 'colormap', 'container', 'cursor', 'height', 'highlightbackground', 'highlightcolor', 'highlightthickness', 'padx', 'pady', 'takefocus', 'visual', 'width']\n",
      "300 160 810 460\n"
     ]
    }
   ],
   "source": [
    "root = Tk()\n",
    "print(root.keys())\n",
    "screenWidth = root.winfo_screenwidth()     # 屏幕宽度\n",
    "screenHeight = root.winfo_screenheight()   # 屏幕高度\n",
    "w = 300\n",
    "h = 160 \n",
    "x = (screenWidth - w) // 2\n",
    "y = (screenHeight - h) // 2\n",
    "print(w,h,x,y)\n",
    "\n",
    "root.geometry(\"300x160+810+460\")\n",
    "root.mainloop()"
   ]
  }
 ],
 "metadata": {
  "kernelspec": {
   "display_name": "Python 3 (ipykernel)",
   "language": "python",
   "name": "python3"
  },
  "language_info": {
   "codemirror_mode": {
    "name": "ipython",
    "version": 3
   },
   "file_extension": ".py",
   "mimetype": "text/x-python",
   "name": "python",
   "nbconvert_exporter": "python",
   "pygments_lexer": "ipython3",
   "version": "3.11.5"
  },
  "toc": {
   "base_numbering": 1,
   "nav_menu": {},
   "number_sections": true,
   "sideBar": true,
   "skip_h1_title": false,
   "title_cell": "Table of Contents",
   "title_sidebar": "Contents",
   "toc_cell": false,
   "toc_position": {
    "height": "calc(100% - 180px)",
    "left": "10px",
    "top": "150px",
    "width": "219px"
   },
   "toc_section_display": true,
   "toc_window_display": true
  }
 },
 "nbformat": 4,
 "nbformat_minor": 5
}
