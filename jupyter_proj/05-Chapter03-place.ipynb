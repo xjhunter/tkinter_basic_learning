{
 "cells": [
  {
   "cell_type": "markdown",
   "id": "f00ca844",
   "metadata": {},
   "source": [
    "# 第三章 窗口控件配置管理员place()方法"
   ]
  },
  {
   "cell_type": "code",
   "execution_count": 1,
   "id": "19852bc2",
   "metadata": {},
   "outputs": [],
   "source": [
    "from tkinter import *"
   ]
  },
  {
   "cell_type": "markdown",
   "id": "6109c379",
   "metadata": {},
   "source": [
    "## x/y参数"
   ]
  },
  {
   "cell_type": "code",
   "execution_count": 2,
   "id": "494b89ce",
   "metadata": {},
   "outputs": [],
   "source": [
    "window = Tk()\n",
    "window.geometry(\"300x200+810+460\")\n",
    "window.title(\"ch3_36\")\n",
    "lab1 = Label(window,text='明治科技大学',bg='lightyellow',width=15)\n",
    "lab2 = Label(window,text='长庚大学',bg='lightgreen',width=15)\n",
    "lab3 = Label(window,text='长庚科技大学',bg='lightblue',width=15)\n",
    "\n",
    "lab1.place(x=0,y=0)\n",
    "lab2.place(x=30,y=50)\n",
    "lab3.place(x=60,y=100)\n",
    "\n",
    "window.mainloop()"
   ]
  },
  {
   "cell_type": "markdown",
   "id": "a8289259",
   "metadata": {},
   "source": [
    "使用place()方法直接设定标签的位置，重新设计ch3_2.py。"
   ]
  },
  {
   "cell_type": "markdown",
   "id": "ed1d5af1",
   "metadata": {},
   "source": [
    "## width/height参数"
   ]
  },
  {
   "cell_type": "code",
   "execution_count": 3,
   "id": "58b19bdb",
   "metadata": {},
   "outputs": [],
   "source": [
    "root = Tk()\n",
    "root.title(\"ch3_37\")\n",
    "root.geometry(\"640x480+610+330\")\n",
    "\n",
    "night = PhotoImage(file=r'./res/night.png')\n",
    "lab1 = Label(root,image=night)\n",
    "lab1.place(x=20,y=30,width=200,height=120)\n",
    "\n",
    "snow = PhotoImage(file=r'./res/snow.png')\n",
    "lab2 = Label(root,image=snow)\n",
    "lab2.place(x=200,y=200,width=400,height=240)\n",
    "\n",
    "root.mainloop()"
   ]
  },
  {
   "cell_type": "markdown",
   "id": "ab136bfd",
   "metadata": {},
   "source": [
    "这里使用width/height参数指定了图片的生成大小。"
   ]
  },
  {
   "cell_type": "markdown",
   "id": "adb76545",
   "metadata": {},
   "source": [
    "## relx/rely参数与relwidth/relheight参数"
   ]
  },
  {
   "cell_type": "code",
   "execution_count": 5,
   "id": "fdf0d1e2",
   "metadata": {},
   "outputs": [],
   "source": [
    "root = Tk()\n",
    "root.title(\"ch3_38\")\n",
    "root.geometry(\"640x480+610+330\")\n",
    "\n",
    "night = PhotoImage(file=r'./res/night.png')\n",
    "lab1 = Label(root,image=night)\n",
    "lab1.place(relx=0.1,rely=0.1,relwidth=0.8,relheight=0.8)\n",
    "\n",
    "root.mainloop()"
   ]
  },
  {
   "cell_type": "markdown",
   "id": "94b2104d",
   "metadata": {},
   "source": [
    "将图片放置在相对位置(0.1, 0.1)，相对大小是(0.8, 0.8)"
   ]
  },
  {
   "cell_type": "markdown",
   "id": "0fb5e24d",
   "metadata": {},
   "source": [
    "## 部分右边图片没有显示"
   ]
  },
  {
   "cell_type": "code",
   "execution_count": 8,
   "id": "ae3c4d66",
   "metadata": {},
   "outputs": [],
   "source": [
    "root = Tk()\n",
    "root.title(\"ch3_39\")\n",
    "root.geometry(\"640x480+610+330\")\n",
    "\n",
    "night = PhotoImage(file=r'./res/night.png')\n",
    "lab1 = Label(root,image=night)\n",
    "lab1.place(relx=0.1,rely=0.1,relheight=0.8)\n",
    "\n",
    "root.mainloop()"
   ]
  },
  {
   "cell_type": "markdown",
   "id": "c9ad5f76",
   "metadata": {},
   "source": [
    "这里未设定的部分（相对宽度）将以实际大小显示，此时可能需要放大窗口的宽度才能完整显示图片。"
   ]
  },
  {
   "cell_type": "markdown",
   "id": "1862ade3",
   "metadata": {},
   "source": [
    "我们使用tkinter模块设计GUI程序时，虽然可以使用place()方法很精确地设置控件的位置，不过笔者建议尽量使用pack()和grid()方法定位组件，因为当窗口中组件较多时，使用place()计算组件位置较不方便，同时若有新增或减少组件时又需重新计算组件位置，这样会比较不方便。"
   ]
  }
 ],
 "metadata": {
  "kernelspec": {
   "display_name": "Python 3 (ipykernel)",
   "language": "python",
   "name": "python3"
  },
  "language_info": {
   "codemirror_mode": {
    "name": "ipython",
    "version": 3
   },
   "file_extension": ".py",
   "mimetype": "text/x-python",
   "name": "python",
   "nbconvert_exporter": "python",
   "pygments_lexer": "ipython3",
   "version": "3.11.5"
  },
  "toc": {
   "base_numbering": 1,
   "nav_menu": {},
   "number_sections": true,
   "sideBar": true,
   "skip_h1_title": false,
   "title_cell": "Table of Contents",
   "title_sidebar": "Contents",
   "toc_cell": false,
   "toc_position": {
    "height": "calc(100% - 180px)",
    "left": "10px",
    "top": "150px",
    "width": "308px"
   },
   "toc_section_display": true,
   "toc_window_display": true
  }
 },
 "nbformat": 4,
 "nbformat_minor": 5
}
