{
 "cells": [
  {
   "cell_type": "markdown",
   "id": "f00ca844",
   "metadata": {},
   "source": [
    "# 第三章 窗口控件配置管理员pack()方法"
   ]
  },
  {
   "cell_type": "code",
   "execution_count": 1,
   "id": "19852bc2",
   "metadata": {},
   "outputs": [],
   "source": [
    "from tkinter import *"
   ]
  },
  {
   "cell_type": "markdown",
   "id": "5bc17dbf",
   "metadata": {},
   "source": [
    "## ch3_1 一个窗口中含有三个标签, pack()方法"
   ]
  },
  {
   "cell_type": "code",
   "execution_count": 39,
   "id": "4af5e47a",
   "metadata": {},
   "outputs": [],
   "source": [
    "window = Tk()\n",
    "window.geometry(\"230x100+810+460\")\n",
    "window.title(\"ch3_1\")\n",
    "lab1 = Label(window,text='明治科技大学',bg='lightyellow')\n",
    "lab2 = Label(window,text='长庚大学',bg='lightgreen')\n",
    "lab3 = Label(window,text='长庚科技大学',bg='lightblue')\n",
    "\n",
    "lab1.pack()\n",
    "lab2.pack()\n",
    "lab3.pack()\n",
    "\n",
    "window.mainloop()"
   ]
  },
  {
   "cell_type": "markdown",
   "id": "392baf13",
   "metadata": {},
   "source": [
    "这里是默认设置，TOP居中。"
   ]
  },
  {
   "cell_type": "markdown",
   "id": "743477a5",
   "metadata": {},
   "source": [
    "## ch3_2 side参数"
   ]
  },
  {
   "cell_type": "code",
   "execution_count": 38,
   "id": "5708210e",
   "metadata": {},
   "outputs": [],
   "source": [
    "window = Tk()\n",
    "window.geometry(\"230x100+810+460\")\n",
    "window.title(\"ch3_2\")\n",
    "lab1 = Label(window,text='明治科技大学',bg='lightyellow',width=15)\n",
    "lab2 = Label(window,text='长庚大学',bg='lightgreen',width=15)\n",
    "lab3 = Label(window,text='长庚科技大学',bg='lightblue',width=15)\n",
    "\n",
    "lab1.pack(side=BOTTOM)\n",
    "lab2.pack(side=BOTTOM)\n",
    "lab3.pack(side=BOTTOM)\n",
    "\n",
    "window.mainloop()"
   ]
  },
  {
   "cell_type": "markdown",
   "id": "9bc7ceb8",
   "metadata": {},
   "source": [
    "这里使用side参数改变布局位置，side可选 TOP, BOTTOM, LEFT, RIGHT, 另外本例中还将标签的宽度改为了15"
   ]
  },
  {
   "cell_type": "code",
   "execution_count": 48,
   "id": "d42880bc",
   "metadata": {},
   "outputs": [],
   "source": [
    "window = Tk()\n",
    "window.geometry(\"430x100+810+460\")\n",
    "window.title(\"ch3_3\")\n",
    "lab1 = Label(window,text='明治科技大学',bg='lightyellow',width=15)\n",
    "lab2 = Label(window,text='长庚大学',bg='lightgreen',width=15)\n",
    "lab3 = Label(window,text='长庚科技大学',bg='lightblue',width=15)\n",
    "\n",
    "lab1.pack(side=LEFT)\n",
    "lab2.pack(side=LEFT)\n",
    "lab3.pack(side=LEFT)\n",
    "\n",
    "window.mainloop()"
   ]
  },
  {
   "cell_type": "markdown",
   "id": "92d12efb",
   "metadata": {},
   "source": [
    "观察LEFT效果。"
   ]
  },
  {
   "cell_type": "code",
   "execution_count": 52,
   "id": "d3562ab4",
   "metadata": {},
   "outputs": [],
   "source": [
    "window = Tk()\n",
    "window.geometry(\"300x100+810+460\")\n",
    "window.title(\"ch3_4\")\n",
    "lab1 = Label(window,text='明治科技大学',bg='lightyellow',width=15)\n",
    "lab2 = Label(window,text='长庚大学',bg='lightgreen',width=15)\n",
    "lab3 = Label(window,text='长庚科技大学',bg='lightblue',width=15)\n",
    "\n",
    "lab1.pack()\n",
    "lab2.pack(side=RIGHT)\n",
    "lab3.pack(side=LEFT)\n",
    "\n",
    "window.mainloop()"
   ]
  },
  {
   "cell_type": "markdown",
   "id": "df77d24b",
   "metadata": {},
   "source": [
    "观察以上效果。"
   ]
  },
  {
   "cell_type": "markdown",
   "id": "4791c1cc",
   "metadata": {},
   "source": [
    "## ch3_5 列出relief的属性"
   ]
  },
  {
   "cell_type": "code",
   "execution_count": 54,
   "id": "76aa668f",
   "metadata": {},
   "outputs": [],
   "source": [
    "Reliefs = ['FLAT','RAISED','SUNKEN','GROOVE','RIDGE','SOLID']\n",
    "\n",
    "root = Tk()\n",
    "root.geometry(\"+510+460\")\n",
    "root.title(\"ch3_5\")\n",
    "\n",
    "for r in Reliefs:\n",
    "    Label(root,text=r,relief=r.lower(),fg='blue',font='Times 20 bold').pack(side=LEFT,padx=5)\n",
    "\n",
    "root.mainloop()"
   ]
  },
  {
   "cell_type": "markdown",
   "id": "174a088c",
   "metadata": {},
   "source": [
    "列出relief的所有属性。注意这里首次用到了窗口大约显示在屏幕中央位置，大小使用默认值的写法，+510+460。"
   ]
  },
  {
   "cell_type": "markdown",
   "id": "064f656d",
   "metadata": {},
   "source": [
    "## ch3_5_1 列出所有bitmaps位图"
   ]
  },
  {
   "cell_type": "code",
   "execution_count": 57,
   "id": "1cd0c3ae",
   "metadata": {},
   "outputs": [],
   "source": [
    "bitMaps = ['error','hourglass','info','questhead','question','warning','gray12','gray25','gray50','gray75']\n",
    "\n",
    "root = Tk()\n",
    "root.geometry(\"+810+460\")\n",
    "root.title(\"ch3_5_1\")\n",
    "\n",
    "for b in bitMaps:\n",
    "    Label(root,bitmap=b).pack(side=LEFT,padx=5)\n",
    "\n",
    "root.mainloop()"
   ]
  },
  {
   "cell_type": "markdown",
   "id": "227e5d3c",
   "metadata": {},
   "source": [
    "## ch3_6 padx/pady参数"
   ]
  },
  {
   "cell_type": "code",
   "execution_count": 67,
   "id": "512b6bc2",
   "metadata": {},
   "outputs": [],
   "source": [
    "window = Tk()\n",
    "window.geometry(\"200x100+810+460\")\n",
    "window.title(\"ch3_6\")\n",
    "lab1 = Label(window,text='明治科技大学',bg='lightyellow',width=15)\n",
    "lab2 = Label(window,text='长庚大学',bg='lightgreen',width=15)\n",
    "lab3 = Label(window,text='长庚科技大学',bg='lightblue',width=15)\n",
    "\n",
    "lab1.pack(fill=X)\n",
    "lab2.pack(pady=10)\n",
    "lab3.pack(fill=X)\n",
    "\n",
    "window.mainloop()"
   ]
  },
  {
   "cell_type": "markdown",
   "id": "3f8d1d26",
   "metadata": {},
   "source": [
    "这里上下两个标签填满了X空间，中间的标签上下增加了10像素间距。"
   ]
  },
  {
   "cell_type": "code",
   "execution_count": 69,
   "id": "b409e88d",
   "metadata": {},
   "outputs": [],
   "source": [
    "window = Tk()\n",
    "window.geometry(\"200x120+810+460\")\n",
    "window.title(\"ch3_7\")\n",
    "lab1 = Label(window,text='明治科技大学',bg='lightyellow',width=15)\n",
    "lab2 = Label(window,text='长庚大学',bg='lightgreen',width=15)\n",
    "lab3 = Label(window,text='长庚科技大学',bg='lightblue',width=15)\n",
    "\n",
    "lab1.pack(fill=X,pady=10)\n",
    "lab2.pack(pady=10)\n",
    "lab3.pack(fill=X)\n",
    "\n",
    "window.mainloop()"
   ]
  },
  {
   "cell_type": "code",
   "execution_count": 72,
   "id": "4142213c",
   "metadata": {},
   "outputs": [],
   "source": [
    "window = Tk()\n",
    "window.geometry(\"200x120+810+460\")\n",
    "window.title(\"ch3_7\")\n",
    "lab1 = Label(window,text='明治科技大学',bg='lightyellow',width=15)\n",
    "lab2 = Label(window,text='长庚大学',bg='lightgreen',width=15)\n",
    "lab3 = Label(window,text='长庚科技大学',bg='lightblue',width=15)\n",
    "\n",
    "lab1.pack(padx=50)\n",
    "lab2.pack(padx=50)\n",
    "lab3.pack(padx=50)\n",
    "\n",
    "window.mainloop()"
   ]
  },
  {
   "cell_type": "code",
   "execution_count": 79,
   "id": "cd052b54",
   "metadata": {},
   "outputs": [],
   "source": [
    "window = Tk()\n",
    "window.geometry(\"+810+460\")\n",
    "window.title(\"ch3_7\")\n",
    "lab1 = Label(window,text='明治科技大学',bg='lightyellow',width=15)\n",
    "lab2 = Label(window,text='长庚大学',bg='lightgreen',width=15)\n",
    "lab3 = Label(window,text='长庚科技大学',bg='lightblue',width=15)\n",
    "\n",
    "lab1.pack(side=LEFT)\n",
    "lab2.pack(side=LEFT,padx=10)\n",
    "lab3.pack(side=LEFT)\n",
    "\n",
    "window.mainloop()"
   ]
  },
  {
   "cell_type": "markdown",
   "id": "63b09696",
   "metadata": {},
   "source": [
    "## ch3_10 ipadx/ipady参数"
   ]
  },
  {
   "cell_type": "code",
   "execution_count": 83,
   "id": "e677347c",
   "metadata": {},
   "outputs": [],
   "source": [
    "window = Tk()\n",
    "window.geometry(\"230x100+810+460\")\n",
    "window.title(\"ch3_10\")\n",
    "lab1 = Label(window,text='明治科技大学',bg='lightyellow')\n",
    "lab2 = Label(window,text='长庚大学',bg='lightgreen')\n",
    "lab3 = Label(window,text='长庚科技大学',bg='lightblue')\n",
    "\n",
    "lab1.pack()\n",
    "lab2.pack(ipadx=10)\n",
    "lab3.pack()\n",
    "\n",
    "window.mainloop()"
   ]
  },
  {
   "cell_type": "markdown",
   "id": "36d31ce7",
   "metadata": {},
   "source": [
    "ipad参数可以控制标签文字与标签容器的间距"
   ]
  },
  {
   "cell_type": "code",
   "execution_count": 84,
   "id": "44839e45",
   "metadata": {},
   "outputs": [],
   "source": [
    "window = Tk()\n",
    "window.geometry(\"230x100+810+460\")\n",
    "window.title(\"ch3_11\")\n",
    "lab1 = Label(window,text='明治科技大学',bg='lightyellow')\n",
    "lab2 = Label(window,text='长庚大学',bg='lightgreen')\n",
    "lab3 = Label(window,text='长庚科技大学',bg='lightblue')\n",
    "\n",
    "lab1.pack()\n",
    "lab2.pack(ipadx=10)\n",
    "lab3.pack(ipady=10)\n",
    "\n",
    "window.mainloop()"
   ]
  },
  {
   "cell_type": "markdown",
   "id": "c1e932d7",
   "metadata": {},
   "source": [
    "## ch3_12 anchor参数"
   ]
  },
  {
   "cell_type": "code",
   "execution_count": 87,
   "id": "71f9bf6b",
   "metadata": {},
   "outputs": [],
   "source": [
    "root = Tk()\n",
    "root.title(\"ch3_12\")\n",
    "root.geometry(\"300x180+810+460\")\n",
    "oklabel=Label(root,text='OK',\n",
    "             font=\"Times 20 bold\",\n",
    "             fg='white',bg='blue')\n",
    "oklabel.pack(anchor=S,side=RIGHT,    #从右开始在S方向设置\n",
    "            padx=10,pady=10)         #X和Y轴间距都是10\n",
    "\n",
    "root.mainloop()"
   ]
  },
  {
   "cell_type": "markdown",
   "id": "d0ec8075",
   "metadata": {},
   "source": [
    "anchor的选项如下:"
   ]
  },
  {
   "cell_type": "markdown",
   "id": "1368a55e",
   "metadata": {},
   "source": [
    "<img src=\"res/05.png\" align=\"left\">"
   ]
  },
  {
   "cell_type": "markdown",
   "id": "c5b39da8",
   "metadata": {},
   "source": [
    "这里需要注意的是pack()布局方法中，side默认是TOP，anchor默认是CENTER"
   ]
  },
  {
   "cell_type": "markdown",
   "id": "4e697940",
   "metadata": {},
   "source": [
    "上例中，先用anchor将标签定位到S方位，再用side将其移到右侧，于是便在右下角生成了OK标签"
   ]
  },
  {
   "cell_type": "markdown",
   "id": "f6dde2ce",
   "metadata": {},
   "source": [
    "## ch3_13 上例基础上增加NO标签"
   ]
  },
  {
   "cell_type": "code",
   "execution_count": 88,
   "id": "7d03aae4",
   "metadata": {},
   "outputs": [],
   "source": [
    "root = Tk()\n",
    "root.title(\"ch3_13\")\n",
    "root.geometry(\"300x180+810+460\")\n",
    "oklabel=Label(root,text='OK',\n",
    "             font=\"Times 20 bold\",\n",
    "             fg='white',bg='blue')\n",
    "oklabel.pack(anchor=S,side=RIGHT,\n",
    "            padx=10,pady=10)\n",
    "\n",
    "nolabel=Label(root,text='NO',\n",
    "             font=\"Times 20 bold\",\n",
    "             fg='white',bg='red')\n",
    "nolabel.pack(anchor=S,side=RIGHT,\n",
    "            pady=10)\n",
    "\n",
    "root.mainloop()"
   ]
  },
  {
   "cell_type": "markdown",
   "id": "957a62c4",
   "metadata": {},
   "source": [
    "## ch3_14 fill参数"
   ]
  },
  {
   "cell_type": "code",
   "execution_count": 98,
   "id": "487100f9",
   "metadata": {},
   "outputs": [],
   "source": [
    "window = Tk()\n",
    "window.geometry(\"230x100+810+460\")\n",
    "window.title(\"ch3_14\")\n",
    "lab1 = Label(window,text='明治科技大学',bg='lightyellow')\n",
    "lab2 = Label(window,text='长庚大学',bg='lightgreen')\n",
    "lab3 = Label(window,text='长庚科技大学',bg='lightblue')\n",
    "\n",
    "lab1.pack(fill=X)\n",
    "lab2.pack()\n",
    "lab3.pack(fill=X)\n",
    "\n",
    "window.mainloop()"
   ]
  },
  {
   "cell_type": "markdown",
   "id": "72e7fdd4",
   "metadata": {},
   "source": [
    "这里第一个和第三个标签会填充满X轴，扩大缩小窗口亦是如此。"
   ]
  },
  {
   "cell_type": "code",
   "execution_count": 91,
   "id": "a01d67f2",
   "metadata": {},
   "outputs": [],
   "source": [
    "window = Tk()\n",
    "window.geometry(\"230x100+810+460\")\n",
    "window.title(\"ch3_14\")\n",
    "lab1 = Label(window,text='明治科技大学',bg='lightyellow')\n",
    "lab2 = Label(window,text='长庚大学',bg='lightgreen')\n",
    "lab3 = Label(window,text='长庚科技大学',bg='lightblue')\n",
    "\n",
    "lab1.pack(side=LEFT,fill=Y)\n",
    "lab2.pack()\n",
    "lab3.pack()\n",
    "\n",
    "window.mainloop()"
   ]
  },
  {
   "cell_type": "markdown",
   "id": "177a1e21",
   "metadata": {},
   "source": [
    "这里，扩大缩小窗口，第一个标签的Y方向会被填充满。"
   ]
  },
  {
   "cell_type": "code",
   "execution_count": 97,
   "id": "8c8c8c2f",
   "metadata": {},
   "outputs": [],
   "source": [
    "window = Tk()\n",
    "window.geometry(\"230x100+810+460\")\n",
    "window.title(\"ch3_14\")\n",
    "lab1 = Label(window,text='明治科技大学',bg='lightyellow')\n",
    "lab2 = Label(window,text='长庚大学',bg='lightgreen')\n",
    "lab3 = Label(window,text='长庚科技大学',bg='lightblue')\n",
    "\n",
    "lab1.pack(side=LEFT,fill=Y)\n",
    "lab2.pack(fill=X)\n",
    "lab3.pack(fill=BOTH)\n",
    "\n",
    "window.mainloop()"
   ]
  },
  {
   "cell_type": "markdown",
   "id": "8651160e",
   "metadata": {},
   "source": [
    "这里，扩大缩小窗口，第二三个标签的X方向也会被填充满，但是Y轴方向不会被填充满，即使改成lab3.pack(fill=BOTH)，还是不行，需要用到下面的expand参数。"
   ]
  },
  {
   "cell_type": "markdown",
   "id": "a301d0ed",
   "metadata": {},
   "source": [
    "## ch3_20 expand参数"
   ]
  },
  {
   "cell_type": "code",
   "execution_count": 96,
   "id": "cea31839",
   "metadata": {},
   "outputs": [],
   "source": [
    "window = Tk()\n",
    "window.geometry(\"230x100+810+460\")\n",
    "window.title(\"ch3_20\")\n",
    "lab1 = Label(window,text='明治科技大学',bg='lightyellow')\n",
    "lab2 = Label(window,text='长庚大学',bg='lightgreen')\n",
    "lab3 = Label(window,text='长庚科技大学',bg='lightblue')\n",
    "\n",
    "lab1.pack(side=LEFT,fill=Y)\n",
    "lab2.pack(fill=X)\n",
    "lab3.pack(fill=BOTH,expand=True)\n",
    "\n",
    "window.mainloop()"
   ]
  },
  {
   "cell_type": "markdown",
   "id": "aa86ddfd",
   "metadata": {},
   "source": [
    "这样就可以了，运行看看效果吧。<br />\n",
    "至此，我们应该了解到side,fill和expand参数是互相影响的。"
   ]
  },
  {
   "cell_type": "markdown",
   "id": "05b8221f",
   "metadata": {},
   "source": [
    "## ch3_21 从上到下配置标签"
   ]
  },
  {
   "cell_type": "code",
   "execution_count": 101,
   "id": "19c286c6",
   "metadata": {},
   "outputs": [],
   "source": [
    "root = Tk()\n",
    "root.geometry(\"300x200+810+460\")\n",
    "root.title(\"ch3_21\")\n",
    "\n",
    "Label(root,text='Mississippi',bg='red',fg='white',font=\"Times 24 bold\").pack(fill=X)\n",
    "Label(root,text='Kentucky',bg='green',fg='white',font=\"Arial 24 bold italic\").pack(fill=BOTH,expand=True)\n",
    "Label(root,text='Purdue',bg='blue',fg='white',font=\"Times 24 bold\").pack(fill=X)\n",
    "\n",
    "root.mainloop()"
   ]
  },
  {
   "cell_type": "markdown",
   "id": "8ef7cd46",
   "metadata": {},
   "source": [
    "缩放窗口看效果。"
   ]
  },
  {
   "cell_type": "markdown",
   "id": "ffbf1de2",
   "metadata": {},
   "source": [
    "## ch3_22 从左到右配置标签"
   ]
  },
  {
   "cell_type": "code",
   "execution_count": 104,
   "id": "4074985f",
   "metadata": {},
   "outputs": [],
   "source": [
    "root = Tk()\n",
    "root.geometry(\"500x200+810+460\")\n",
    "root.title(\"ch3_22\")\n",
    "\n",
    "Label(root,text='Mississippi',bg='red',fg='white',font=\"Times 24 bold\").pack(side=LEFT,fill=Y)\n",
    "Label(root,text='Kentucky',bg='green',fg='white',font=\"Arial 24 bold italic\").pack(side=LEFT,fill=BOTH,expand=True)\n",
    "Label(root,text='Purdue',bg='blue',fg='white',font=\"Times 24 bold\").pack(side=LEFT,fill=Y)\n",
    "\n",
    "root.mainloop()"
   ]
  },
  {
   "cell_type": "markdown",
   "id": "356dbec0",
   "metadata": {},
   "source": [
    "## ch3_23 列出Widget控件中的内容"
   ]
  },
  {
   "cell_type": "markdown",
   "id": "fd9f6b90",
   "metadata": {},
   "source": [
    "pack其实在Python tkinter中是一个类别，它提供下列方法使用。\n",
    "| 方法名称 | 说明 |\n",
    "|  :-  | :-  |\n",
    "| slaves()  | 传回所有Widget控件对象 |\n",
    "| info()  | 传回pack选项的对应值 |\n",
    "| forget()  | 隐藏Widget控件，可以用pack(option,...)复原显示 |\n",
    "| location(x,y)  | 传回此点是否在单元格，如果是传回坐标，如果否传回(-1,-1) |\n",
    "| size()  | 传回Widget控件大小 |\n",
    "| propagate(boolean)  | 参数是Ture表示父窗口大小由控件决定，默认为True |"
   ]
  },
  {
   "cell_type": "code",
   "execution_count": 129,
   "id": "a9369408",
   "metadata": {},
   "outputs": [
    {
     "name": "stdout",
     "output_type": "stream",
     "text": [
      "执行前 []\n",
      "执行后 [<tkinter.Label object .!label>, <tkinter.Label object .!label2>]\n",
      "打印oklabel pack_info:  {'in': <tkinter.Tk object .>, 'anchor': 's', 'expand': 0, 'fill': 'none', 'ipadx': 0, 'ipady': 0, 'padx': 10, 'pady': 10, 'side': 'right'}\n",
      "打印oklabel pack_info:  (-1, -1)\n"
     ]
    }
   ],
   "source": [
    "root = Tk()\n",
    "root.geometry(\"300x180+810+460\")\n",
    "root.title(\"ch3_23\")\n",
    "\n",
    "print(\"执行前\",root.pack_slaves())\n",
    "oklabel=Label(root,text='OK',\n",
    "             font=\"Times 20 bold\",\n",
    "             fg='white',bg='blue')\n",
    "oklabel.pack(anchor=S,side=RIGHT,\n",
    "            padx=10,pady=10)\n",
    "\n",
    "nolabel=Label(root,text='NO',\n",
    "             font=\"Times 20 bold\",\n",
    "             fg='white',bg='red')\n",
    "nolabel.pack(anchor=S,side=RIGHT,\n",
    "            pady=10)\n",
    "print(\"执行后\",root.pack_slaves())\n",
    "\n",
    "print(\"打印oklabel pack_info: \",oklabel.pack_info())\n",
    "print(\"打印oklabel pack_info: \",oklabel.location(1080, 610))\n",
    "root.mainloop()"
   ]
  },
  {
   "cell_type": "code",
   "execution_count": 136,
   "id": "663495a6",
   "metadata": {},
   "outputs": [
    {
     "name": "stdout",
     "output_type": "stream",
     "text": [
      "执行前 []\n",
      "执行后 [<tkinter.Label object .!label>, <tkinter.Label object .!label2>]\n",
      "打印oklabel pack_info:  {'in': <tkinter.Tk object .>, 'anchor': 's', 'expand': 0, 'fill': 'none', 'ipadx': 0, 'ipady': 0, 'padx': 10, 'pady': 10, 'side': 'right'}\n",
      "打印oklabel pack location:  (-1, -1)\n"
     ]
    }
   ],
   "source": [
    "def on_mouse_move(event):\n",
    "    # 更新鼠标坐标\n",
    "    x, y = event.x, event.y\n",
    "    coords.set(f'X: {x}, Y: {y}')\n",
    "\n",
    "root = Tk()\n",
    "root.geometry(\"300x180+810+460\")\n",
    "root.title(\"ch3_23\")\n",
    "\n",
    "print(\"执行前\",root.pack_slaves())\n",
    "oklabel=Label(root,text='OK',\n",
    "             font=\"Times 20 bold\",\n",
    "             fg='white',bg='blue')\n",
    "oklabel.pack(anchor=S,side=RIGHT,\n",
    "            padx=10,pady=10)\n",
    "\n",
    "nolabel=Label(root,text='NO',\n",
    "             font=\"Times 20 bold\",\n",
    "             fg='white',bg='red')\n",
    "nolabel.pack(anchor=S,side=RIGHT,\n",
    "            pady=10)\n",
    "print(\"执行后\",root.pack_slaves())\n",
    "\n",
    "print(\"打印oklabel pack_info: \",oklabel.pack_info())\n",
    "\n",
    "coords = StringVar()\n",
    "label = Label(root, textvariable=coords, bg='white', font=('Helvetica', 10))\n",
    "label.pack(side='top')\n",
    "root.bind('<Motion>', on_mouse_move)\n",
    "\n",
    "print(\"打印oklabel pack location: \",oklabel.location(14, 14))\n",
    "root.mainloop()"
   ]
  }
 ],
 "metadata": {
  "kernelspec": {
   "display_name": "Python 3 (ipykernel)",
   "language": "python",
   "name": "python3"
  },
  "language_info": {
   "codemirror_mode": {
    "name": "ipython",
    "version": 3
   },
   "file_extension": ".py",
   "mimetype": "text/x-python",
   "name": "python",
   "nbconvert_exporter": "python",
   "pygments_lexer": "ipython3",
   "version": "3.11.5"
  },
  "toc": {
   "base_numbering": 1,
   "nav_menu": {},
   "number_sections": true,
   "sideBar": true,
   "skip_h1_title": false,
   "title_cell": "Table of Contents",
   "title_sidebar": "Contents",
   "toc_cell": false,
   "toc_position": {
    "height": "calc(100% - 180px)",
    "left": "10px",
    "top": "150px",
    "width": "307px"
   },
   "toc_section_display": true,
   "toc_window_display": true
  }
 },
 "nbformat": 4,
 "nbformat_minor": 5
}
